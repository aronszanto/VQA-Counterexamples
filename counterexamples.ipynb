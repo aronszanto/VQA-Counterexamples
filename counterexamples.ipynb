{
 "cells": [
  {
   "cell_type": "code",
   "execution_count": 1,
   "metadata": {},
   "outputs": [
    {
     "name": "stderr",
     "output_type": "stream",
     "text": [
      "/usr/local/lib/python3.5/dist-packages/h5py/__init__.py:36: FutureWarning: Conversion of the second argument of issubdtype from `float` to `np.floating` is deprecated. In future, it will be treated as `np.float64 == np.dtype(float).type`.\n",
      "  from ._conv import register_converters as _register_converters\n"
     ]
    }
   ],
   "source": [
    "import argparse\n",
    "import h5py\n",
    "import numpy as np\n",
    "import os\n",
    "import pickle\n",
    "import shutil\n",
    "import yaml\n",
    "import json\n",
    "import click\n",
    "from IPython.display import Image, display\n",
    "from pprint import pprint\n",
    "from tqdm import tqdm\n",
    "import torch\n",
    "import torch.nn as nn\n",
    "import torch.backends.cudnn as cudnn\n",
    "\n",
    "import vqa.lib.engine as engine\n",
    "import vqa.lib.utils as utils\n",
    "import vqa.lib.logger as logger\n",
    "import vqa.lib.criterions as criterions\n",
    "import vqa.datasets as datasets\n",
    "import vqa.models as models"
   ]
  },
  {
   "cell_type": "code",
   "execution_count": 2,
   "metadata": {},
   "outputs": [],
   "source": [
    "with open('options/vqa2/mutan_noatt_train_cex.yaml', 'r') as handle:\n",
    "    options = yaml.load(handle)\n",
    "options['vgenome'] = None"
   ]
  },
  {
   "cell_type": "code",
   "execution_count": 3,
   "metadata": {
    "collapsed": true
   },
   "outputs": [
    {
     "data": {
      "text/plain": [
       "{'coco': {'arch': 'fbresnet152',\n",
       "  'dir': 'data/coco',\n",
       "  'mode': 'noatt',\n",
       "  'size': 448},\n",
       " 'logs': {'dir_logs': 'logs/vqa2/mutan_noatt_train'},\n",
       " 'model': {'arch': 'MutanNoAtt',\n",
       "  'classif': {'dropout': 0.5},\n",
       "  'fusion': {'R': 10,\n",
       "   'activation_q': 'tanh',\n",
       "   'activation_v': 'tanh',\n",
       "   'dim_hq': 360,\n",
       "   'dim_hv': 360,\n",
       "   'dim_mm': 360,\n",
       "   'dim_q': 2400,\n",
       "   'dim_v': 2048,\n",
       "   'dropout_hq': 0,\n",
       "   'dropout_hv': 0,\n",
       "   'dropout_q': 0.5,\n",
       "   'dropout_v': 0.5},\n",
       "  'seq2vec': {'arch': 'skipthoughts',\n",
       "   'dir_st': 'data/skip-thoughts',\n",
       "   'dropout': 0.25,\n",
       "   'fixed_emb': False,\n",
       "   'type': 'BayesianUniSkip'}},\n",
       " 'optim': {'batch_size': 64, 'epochs': 100, 'lr': 0.0001},\n",
       " 'vgenome': None,\n",
       " 'vqa': {'dataset': 'VQA2',\n",
       "  'dir': 'data/vqa2',\n",
       "  'maxlength': 26,\n",
       "  'minwcount': 0,\n",
       "  'nans': 2000,\n",
       "  'nlp': 'mcb',\n",
       "  'pad': 'right',\n",
       "  'samplingans': True,\n",
       "  'trainsplit': 'train'}}"
      ]
     },
     "execution_count": 3,
     "metadata": {},
     "output_type": "execute_result"
    }
   ],
   "source": [
    "options"
   ]
  },
  {
   "cell_type": "code",
   "execution_count": 4,
   "metadata": {},
   "outputs": [],
   "source": [
    "trainset = datasets.factory_VQA(options['vqa']['trainsplit'],\n",
    "                                options['vqa'],\n",
    "                                options['coco'],\n",
    "                                options['vgenome'])"
   ]
  },
  {
   "cell_type": "code",
   "execution_count": null,
   "metadata": {},
   "outputs": [],
   "source": [
    "trainset"
   ]
  },
  {
   "cell_type": "code",
   "execution_count": null,
   "metadata": {},
   "outputs": [],
   "source": [
    "trainset.dataset_img"
   ]
  },
  {
   "cell_type": "code",
   "execution_count": null,
   "metadata": {},
   "outputs": [],
   "source": [
    "trainset[0].keys()"
   ]
  },
  {
   "cell_type": "code",
   "execution_count": 5,
   "metadata": {},
   "outputs": [],
   "source": [
    "train_loader = trainset.data_loader(batch_size=options['optim']['batch_size'],\n",
    "                                    num_workers=1,\n",
    "                                    shuffle=True)"
   ]
  },
  {
   "cell_type": "code",
   "execution_count": null,
   "metadata": {},
   "outputs": [],
   "source": [
    "# sample = next(iter(train_loader))"
   ]
  },
  {
   "cell_type": "code",
   "execution_count": null,
   "metadata": {},
   "outputs": [],
   "source": [
    "trainset.dataset_img.index_to_name"
   ]
  },
  {
   "cell_type": "code",
   "execution_count": null,
   "metadata": {},
   "outputs": [],
   "source": [
    "trainset.dataset_img.name_to_index"
   ]
  },
  {
   "cell_type": "code",
   "execution_count": null,
   "metadata": {},
   "outputs": [],
   "source": [
    "train_loader.dataset"
   ]
  },
  {
   "cell_type": "code",
   "execution_count": null,
   "metadata": {},
   "outputs": [],
   "source": [
    "for i, sample in enumerate(train_loader):\n",
    "    print(sample.keys())\n",
    "    break"
   ]
  },
  {
   "cell_type": "code",
   "execution_count": null,
   "metadata": {},
   "outputs": [],
   "source": [
    "sample[\"visual\"]"
   ]
  },
  {
   "cell_type": "code",
   "execution_count": null,
   "metadata": {},
   "outputs": [],
   "source": [
    "sample['question_id']"
   ]
  },
  {
   "cell_type": "code",
   "execution_count": 6,
   "metadata": {},
   "outputs": [],
   "source": [
    "train_examples_list = pickle.load(open('data/vqa2/processed/nans,2000_maxlength,26_minwcount,0_nlp,mcb_pad,right_trainsplit,train/trainset.pickle', 'rb'))\n",
    "qid_to_example = {ex['question_id']: ex for ex in train_examples_list}"
   ]
  },
  {
   "cell_type": "code",
   "execution_count": null,
   "metadata": {},
   "outputs": [],
   "source": [
    "len(train_examples_list)"
   ]
  },
  {
   "cell_type": "code",
   "execution_count": null,
   "metadata": {},
   "outputs": [],
   "source": [
    "trainset.dataset_img.name_to_index['COCO_train2014_000000458752.jpg']"
   ]
  },
  {
   "cell_type": "code",
   "execution_count": 7,
   "metadata": {},
   "outputs": [
    {
     "data": {
      "text/plain": [
       "395850"
      ]
     },
     "execution_count": 7,
     "metadata": {},
     "output_type": "execute_result"
    }
   ],
   "source": [
    "comp_pairs = json.load(open(\"data/vqa2/raw/annotations/v2_mscoco_train2014_complementary_pairs.json\", \"r\"))\n",
    "\n",
    "comp_q = {}\n",
    "for q1, q2 in comp_pairs:\n",
    "    comp_q[q1] = q2\n",
    "    comp_q[q2] = q1\n",
    "    \n",
    "len(comp_q)"
   ]
  },
  {
   "cell_type": "code",
   "execution_count": 8,
   "metadata": {},
   "outputs": [
    {
     "ename": "NameError",
     "evalue": "name 'sample' is not defined",
     "output_type": "error",
     "traceback": [
      "\u001b[0;31m---------------------------------------------------------------------------\u001b[0m",
      "\u001b[0;31mNameError\u001b[0m                                 Traceback (most recent call last)",
      "\u001b[0;32m<ipython-input-8-131e23a7c056>\u001b[0m in \u001b[0;36m<module>\u001b[0;34m()\u001b[0m\n\u001b[0;32m----> 1\u001b[0;31m \u001b[0mqid\u001b[0m \u001b[0;34m=\u001b[0m \u001b[0msample\u001b[0m\u001b[0;34m[\u001b[0m\u001b[0;34m'question_id'\u001b[0m\u001b[0;34m]\u001b[0m\u001b[0;34m[\u001b[0m\u001b[0;36m1\u001b[0m\u001b[0;34m]\u001b[0m\u001b[0;34m\u001b[0m\u001b[0m\n\u001b[0m\u001b[1;32m      2\u001b[0m \u001b[0;34m\u001b[0m\u001b[0m\n\u001b[1;32m      3\u001b[0m \u001b[0mex1\u001b[0m \u001b[0;34m=\u001b[0m \u001b[0mqid_to_example\u001b[0m\u001b[0;34m[\u001b[0m\u001b[0mqid\u001b[0m\u001b[0;34m]\u001b[0m\u001b[0;34m\u001b[0m\u001b[0m\n\u001b[1;32m      4\u001b[0m \u001b[0mex2\u001b[0m \u001b[0;34m=\u001b[0m \u001b[0mqid_to_example\u001b[0m\u001b[0;34m[\u001b[0m\u001b[0mcomp_q\u001b[0m\u001b[0;34m[\u001b[0m\u001b[0mqid\u001b[0m\u001b[0;34m]\u001b[0m\u001b[0;34m]\u001b[0m\u001b[0;34m\u001b[0m\u001b[0m\n\u001b[1;32m      5\u001b[0m \u001b[0;34m\u001b[0m\u001b[0m\n",
      "\u001b[0;31mNameError\u001b[0m: name 'sample' is not defined"
     ]
    }
   ],
   "source": [
    "qid = sample['question_id'][1]\n",
    "\n",
    "ex1 = qid_to_example[qid]\n",
    "ex2 = qid_to_example[comp_q[qid]]\n",
    "\n",
    "display(Image(filename=os.path.join('data/coco/raw/train2014', ex1['image_name'])))\n",
    "print(\"Q1: {}\\nA1: {}\\n\".format(ex1['question'], ex1['answer']))\n",
    "\n",
    "display(Image(filename=os.path.join('data/coco/raw/train2014', ex2['image_name'])))\n",
    "print(\"Q2: {}\\nA2: {}\\n\".format(ex2['question'], ex2['answer']))"
   ]
  },
  {
   "cell_type": "code",
   "execution_count": null,
   "metadata": {},
   "outputs": [],
   "source": [
    "sample['question_id'][0]"
   ]
  },
  {
   "cell_type": "code",
   "execution_count": null,
   "metadata": {},
   "outputs": [],
   "source": [
    "ex1"
   ]
  },
  {
   "cell_type": "code",
   "execution_count": 14,
   "metadata": {},
   "outputs": [],
   "source": [
    "for i, sample in enumerate(train_loader):\n",
    "    break"
   ]
  },
  {
   "cell_type": "code",
   "execution_count": null,
   "metadata": {},
   "outputs": [],
   "source": [
    "qid_to_example[sample['question_id'][0]]"
   ]
  },
  {
   "cell_type": "code",
   "execution_count": 9,
   "metadata": {},
   "outputs": [],
   "source": [
    "knns = np.load(\"data/coco/extract/arch,fbresnet152_size,448/knn/knn_results_trainset.npy\").reshape(1)[0]\n",
    "knn_idx = knns[\"indices\"]"
   ]
  },
  {
   "cell_type": "code",
   "execution_count": 10,
   "metadata": {},
   "outputs": [
    {
     "data": {
      "text/plain": [
       "(82783, 25)"
      ]
     },
     "execution_count": 10,
     "metadata": {},
     "output_type": "execute_result"
    }
   ],
   "source": [
    "knn_idx.shape"
   ]
  },
  {
   "cell_type": "code",
   "execution_count": 15,
   "metadata": {},
   "outputs": [],
   "source": [
    "# Get KNNs for original images\n",
    "iids_orig = [trainset.dataset_img.name_to_index[image_name] for image_name in sample['image_name']]\n",
    "\n",
    "# TODO\n",
    "knns_batch = [list(knn_idx[i]) for i in iids_orig]"
   ]
  },
  {
   "cell_type": "code",
   "execution_count": 16,
   "metadata": {},
   "outputs": [
    {
     "data": {
      "text/plain": [
       "(2048,)"
      ]
     },
     "execution_count": 16,
     "metadata": {},
     "output_type": "execute_result"
    }
   ],
   "source": [
    "f = h5py.File('data/coco/extract/arch,fbresnet152_size,448/trainset.hdf5', 'r')\n",
    "features = f.get('noatt')\n",
    "features[0].shape"
   ]
  },
  {
   "cell_type": "code",
   "execution_count": 17,
   "metadata": {},
   "outputs": [
    {
     "name": "stderr",
     "output_type": "stream",
     "text": [
      "100%|██████████| 64/64 [00:00<00:00, 214.97it/s]\n"
     ]
    }
   ],
   "source": [
    "knn_features = [[features[i] for i in knns_batch[j]] for j in tqdm(range(len(knns_batch)))]"
   ]
  },
  {
   "cell_type": "code",
   "execution_count": 21,
   "metadata": {},
   "outputs": [],
   "source": [
    "# Get complementary q_ids (or None if question has no compliment)\n",
    "qids_comp = [comp_q[qid] if qid in comp_q else None for qid in sample['question_id']]"
   ]
  },
  {
   "cell_type": "code",
   "execution_count": 23,
   "metadata": {},
   "outputs": [
    {
     "name": "stdout",
     "output_type": "stream",
     "text": [
      "64\n",
      "10 3\n"
     ]
    }
   ],
   "source": [
    "no_compliment = 0\n",
    "missing_example = 0\n",
    "\n",
    "image_names_comp = []\n",
    "\n",
    "for qid in qids_comp:\n",
    "    if not qid:\n",
    "        no_compliment += 1\n",
    "        image_names_comp.append(None)\n",
    "        continue\n",
    "    if qid not in qid_to_example:\n",
    "        missing_example += 1\n",
    "        image_names_comp.append(None)\n",
    "        continue\n",
    "    \n",
    "    image_names_comp.append(qid_to_example[qid]['image_name'])\n",
    "    \n",
    "print(len(image_names_comp))\n",
    "print(no_compliment, missing_example)"
   ]
  },
  {
   "cell_type": "code",
   "execution_count": 24,
   "metadata": {},
   "outputs": [
    {
     "name": "stdout",
     "output_type": "stream",
     "text": [
      "5 46\n"
     ]
    }
   ],
   "source": [
    "# THE COUNTEREXAMPLE IS FREQUENTLY NOT CONTAINED IN KNNS\n",
    "\n",
    "comp_in_knns = comp_out_knns = 0\n",
    "\n",
    "for i, name in enumerate(image_names_comp):\n",
    "    if name:\n",
    "        iid = trainset.dataset_img.name_to_index[name]\n",
    "        if iid in knns_batch[i]:\n",
    "            comp_in_knns += 1\n",
    "        else:\n",
    "            comp_out_knns += 1\n",
    "                \n",
    "print(comp_in_knns, comp_out_knns)"
   ]
  },
  {
   "cell_type": "code",
   "execution_count": null,
   "metadata": {},
   "outputs": [],
   "source": [
    "i = 1\n",
    "\n",
    "qid = sample['question_id'][i]\n",
    "\n",
    "ex1 = qid_to_example[qid]\n",
    "ex2 = qid_to_example[comp_q[qid]]\n",
    "\n",
    "knn_names = [trainset.dataset_img.index_to_name[nn] for nn in knns_batch[i]]\n",
    "\n",
    "print(ex2['image_name'] in knn_names)\n",
    "\n",
    "display(Image(filename=os.path.join('data/coco/raw/train2014', ex1['image_name'])))\n",
    "print(\"Q1: {}\\nA1: {}\\n\".format(ex1['question'], ex1['answer']))\n",
    "\n",
    "display(Image(filename=os.path.join('data/coco/raw/train2014', ex2['image_name'])))\n",
    "print(\"Q2: {}\\nA2: {}\\n\".format(ex2['question'], ex2['answer']))\n",
    "\n",
    "for name in knn_names:\n",
    "    display(Image(filename=os.path.join('data/coco/raw/train2014', name)))"
   ]
  },
  {
   "cell_type": "code",
   "execution_count": null,
   "metadata": {},
   "outputs": [],
   "source": [
    "test = [ex[\"question_id\"] for ex in train_examples_list]\n",
    "print(len(test), len(set(test)))"
   ]
  },
  {
   "cell_type": "code",
   "execution_count": null,
   "metadata": {},
   "outputs": [],
   "source": [
    "raw_questions = json.load(open(\"data/vqa2/raw/annotations/OpenEnded_mscoco_train2014_questions.json\", \"r\"))\n"
   ]
  },
  {
   "cell_type": "code",
   "execution_count": null,
   "metadata": {},
   "outputs": [],
   "source": [
    "len(raw_questions['questions'])"
   ]
  },
  {
   "cell_type": "code",
   "execution_count": null,
   "metadata": {},
   "outputs": [],
   "source": [
    "lens = np.array([len(q['question'].split()) for q in raw_questions['questions']])"
   ]
  },
  {
   "cell_type": "code",
   "execution_count": null,
   "metadata": {},
   "outputs": [],
   "source": [
    "np.argmax(lens)"
   ]
  },
  {
   "cell_type": "code",
   "execution_count": null,
   "metadata": {},
   "outputs": [],
   "source": [
    "raw_questions['questions'][207064]"
   ]
  },
  {
   "cell_type": "code",
   "execution_count": 25,
   "metadata": {},
   "outputs": [],
   "source": [
    "iids_comp = [trainset.dataset_img.name_to_index[name] if name is not None else None for name in image_names_comp]\n",
    "\n",
    "good_example_idxs = []\n",
    "comp_idxs = []\n",
    "for i, iid in enumerate(iids_comp):\n",
    "    if iid is not None:\n",
    "        if iid in knns_batch[i]:\n",
    "            good_example_idxs.append(i)\n",
    "            comp_idxs.append(knns_batch[i].index(iid))"
   ]
  },
  {
   "cell_type": "code",
   "execution_count": 26,
   "metadata": {},
   "outputs": [],
   "source": [
    "knn_features = [np.array([features[i] for i in knns_batch[j]]) for j in good_example_idxs]"
   ]
  },
  {
   "cell_type": "code",
   "execution_count": 27,
   "metadata": {},
   "outputs": [
    {
     "data": {
      "text/plain": [
       "[1, 7, 10, 3, 9]"
      ]
     },
     "execution_count": 27,
     "metadata": {},
     "output_type": "execute_result"
    }
   ],
   "source": [
    "comp_idxs"
   ]
  },
  {
   "cell_type": "code",
   "execution_count": null,
   "metadata": {},
   "outputs": [],
   "source": [
    "sample.keys()"
   ]
  },
  {
   "cell_type": "code",
   "execution_count": 41,
   "metadata": {},
   "outputs": [],
   "source": [
    "orig = {\n",
    "    # Index of original image within knns is always zero\n",
    "    'idxs': np.zeros(len(good_examples)),\n",
    "    'q': sample['question'][good_example_idxs],\n",
    "    'q_id': sample['question_id'][good_example_idxs],\n",
    "    'a': sample['question'][good_example_idxs],\n",
    "}\n",
    "comp = {\n",
    "    # Index (0 - 24) of comp within knns of original image\n",
    "    'idxs': comp_idxs,\n",
    "    'q_id': [qids_comp[q_id] for q_id in good_example_idxs]\n",
    "}\n",
    "neighbors = {\n",
    "    'v': knn_features,\n",
    "}\n",
    "\n",
    "good_examples = {\n",
    "    'orig': orig,\n",
    "    'comp': comp,\n",
    "    'neighbors': neighbors,\n",
    "}"
   ]
  },
  {
   "cell_type": "code",
   "execution_count": 38,
   "metadata": {},
   "outputs": [],
   "source": [
    "a = good_examples['neighbors']['v'][0][0].shape"
   ]
  },
  {
   "cell_type": "code",
   "execution_count": 39,
   "metadata": {},
   "outputs": [],
   "source": [
    "b = np.array(good_examples['orig']['v'][0]).shape"
   ]
  },
  {
   "cell_type": "code",
   "execution_count": 37,
   "metadata": {},
   "outputs": [
    {
     "data": {
      "text/plain": [
       "True"
      ]
     },
     "execution_count": 37,
     "metadata": {},
     "output_type": "execute_result"
    }
   ],
   "source": [
    "a == b"
   ]
  },
  {
   "cell_type": "code",
   "execution_count": 42,
   "metadata": {},
   "outputs": [
    {
     "data": {
      "text/plain": [
       "[array([[0.24234615, 0.10348432, 0.5118331 , ..., 0.36033654, 0.5667448 ,\n",
       "         0.09381215],\n",
       "        [0.2823501 , 0.11646202, 0.36502463, ..., 0.2891665 , 0.61796474,\n",
       "         0.13190752],\n",
       "        [0.34825417, 0.27901936, 0.33746684, ..., 0.60874546, 0.38208026,\n",
       "         0.5029728 ],\n",
       "        ...,\n",
       "        [0.21959355, 0.15206262, 0.3589017 , ..., 0.57066035, 0.18339404,\n",
       "         0.2891331 ],\n",
       "        [0.19960175, 0.42059517, 0.62594783, ..., 0.3478138 , 0.15879217,\n",
       "         0.28595105],\n",
       "        [0.20172793, 0.05514861, 0.28671435, ..., 0.4509876 , 0.30387655,\n",
       "         0.19386263]], dtype=float32),\n",
       " array([[0.48936182, 0.2954762 , 0.14425993, ..., 0.12827128, 0.39635703,\n",
       "         0.49884117],\n",
       "        [0.45803848, 0.22068338, 0.65286684, ..., 0.02713471, 0.3199094 ,\n",
       "         0.16753413],\n",
       "        [0.30960208, 0.06527094, 0.4083096 , ..., 0.06299937, 0.37265402,\n",
       "         0.18082327],\n",
       "        ...,\n",
       "        [0.23027797, 0.2014927 , 0.34567437, ..., 0.00616849, 0.48087034,\n",
       "         0.33480647],\n",
       "        [0.23498662, 0.11316714, 0.56188846, ..., 0.24735273, 0.16760695,\n",
       "         0.3831674 ],\n",
       "        [0.5460905 , 0.14636369, 0.29292703, ..., 0.09018584, 0.22104514,\n",
       "         0.20024869]], dtype=float32),\n",
       " array([[0.12736772, 0.1286807 , 0.29152602, ..., 0.05030747, 0.1649729 ,\n",
       "         0.33587623],\n",
       "        [0.16844511, 0.0886974 , 0.31553337, ..., 0.0694863 , 0.16344874,\n",
       "         0.41958612],\n",
       "        [0.11159483, 0.06774015, 0.30820838, ..., 0.2319039 , 0.0805821 ,\n",
       "         0.29780528],\n",
       "        ...,\n",
       "        [0.26420146, 0.08644722, 0.23590714, ..., 0.06856576, 0.11699871,\n",
       "         0.41730568],\n",
       "        [0.28957874, 0.08557428, 0.1422465 , ..., 0.30330518, 0.04309264,\n",
       "         0.46598122],\n",
       "        [0.3481662 , 0.14024158, 0.19465579, ..., 0.18574981, 0.02743326,\n",
       "         0.08747648]], dtype=float32),\n",
       " array([[0.23773645, 0.14065453, 0.36244774, ..., 0.244367  , 0.24993111,\n",
       "         0.23057115],\n",
       "        [0.6347196 , 0.11553491, 0.24315125, ..., 0.1725628 , 0.1509876 ,\n",
       "         0.18443269],\n",
       "        [0.16612309, 0.27777544, 0.3926007 , ..., 0.36970925, 0.11747682,\n",
       "         0.32696366],\n",
       "        ...,\n",
       "        [0.3577943 , 0.11164549, 0.16366078, ..., 0.06131013, 0.06692126,\n",
       "         0.07347388],\n",
       "        [0.11151797, 0.12341882, 0.27989045, ..., 0.35024327, 0.326952  ,\n",
       "         0.10068367],\n",
       "        [0.17627831, 0.23499994, 0.32071126, ..., 0.15459204, 0.02759848,\n",
       "         0.19607426]], dtype=float32),\n",
       " array([[1.6412956 , 0.19683762, 0.3887392 , ..., 0.10480045, 0.64661884,\n",
       "         0.25683734],\n",
       "        [1.2757533 , 0.13976511, 0.5532042 , ..., 0.12126107, 0.45425534,\n",
       "         0.06356453],\n",
       "        [2.0932481 , 0.10945428, 0.55353105, ..., 0.07964759, 0.8918125 ,\n",
       "         0.50971496],\n",
       "        ...,\n",
       "        [0.8601892 , 0.26387912, 0.53588676, ..., 0.07334102, 0.42377043,\n",
       "         0.21819156],\n",
       "        [2.6543584 , 0.11825515, 0.28061408, ..., 0.1150324 , 0.5742918 ,\n",
       "         0.15744086],\n",
       "        [1.1090523 , 0.10086919, 0.34863794, ..., 0.11287159, 0.46434155,\n",
       "         0.31407607]], dtype=float32)]"
      ]
     },
     "execution_count": 42,
     "metadata": {},
     "output_type": "execute_result"
    }
   ],
   "source": [
    "good_examples['neighbors']['v']"
   ]
  },
  {
   "cell_type": "code",
   "execution_count": 48,
   "metadata": {},
   "outputs": [
    {
     "data": {
      "text/plain": [
       "[335653003, 302728002, 163933007, 358695004, 59079000]"
      ]
     },
     "execution_count": 48,
     "metadata": {},
     "output_type": "execute_result"
    }
   ],
   "source": [
    "[qids_comp[q_id] for q_id in good_example_idxs]"
   ]
  },
  {
   "cell_type": "code",
   "execution_count": 54,
   "metadata": {},
   "outputs": [
    {
     "name": "stderr",
     "output_type": "stream",
     "text": [
      "\n",
      "\n",
      "0it [00:00, ?it/s]\u001b[A\u001b[A\n",
      "\n",
      "3it [00:00, 23.73it/s]\u001b[A\u001b[A\n",
      "\n",
      "7it [00:00, 28.31it/s]\u001b[A\u001b[A\n",
      "\n",
      "11it [00:00, 29.88it/s]\u001b[A\u001b[A\n",
      "\n",
      "15it [00:00, 30.77it/s]\u001b[A\u001b[A\n",
      "\n",
      "19it [00:00, 31.17it/s]\u001b[A\u001b[A\n",
      "\n",
      "23it [00:00, 31.63it/s]\u001b[A\u001b[A\n",
      "\n",
      "27it [00:00, 31.93it/s]\u001b[A\u001b[A\n",
      "\n",
      "31it [00:00, 32.19it/s]\u001b[A\u001b[A\n",
      "\n",
      "35it [00:01, 32.34it/s]\u001b[A\u001b[A\n",
      "\n",
      "39it [00:01, 32.25it/s]\u001b[A\u001b[A\n",
      "\n",
      "43it [00:01, 32.25it/s]\u001b[A\u001b[A\n",
      "\n",
      "47it [00:01, 32.22it/s]\u001b[A\u001b[A\n",
      "\n",
      "51it [00:01, 32.23it/s]\u001b[A\u001b[A\n",
      "\n",
      "55it [00:01, 32.24it/s]\u001b[A\u001b[A\n",
      "\n",
      "59it [00:01, 32.18it/s]\u001b[A\u001b[A\n",
      "\n",
      "63it [00:01, 32.21it/s]\u001b[A\u001b[A\n",
      "\n",
      "67it [00:02, 32.17it/s]\u001b[A\u001b[A\n",
      "\n",
      "71it [00:02, 32.21it/s]\u001b[A\u001b[A\n",
      "\n",
      "75it [00:02, 32.19it/s]\u001b[A\u001b[A\n",
      "\n",
      "79it [00:02, 32.19it/s]\u001b[A\u001b[A\n",
      "\n",
      "83it [00:02, 32.19it/s]\u001b[A\u001b[AProcess Process-7:\n",
      "Traceback (most recent call last):\n",
      "  File \"/usr/lib/python3.5/multiprocessing/process.py\", line 249, in _bootstrap\n",
      "    self.run()\n"
     ]
    },
    {
     "ename": "KeyboardInterrupt",
     "evalue": "",
     "output_type": "error",
     "traceback": [
      "\u001b[0;31m---------------------------------------------------------------------------\u001b[0m",
      "\u001b[0;31mKeyboardInterrupt\u001b[0m                         Traceback (most recent call last)",
      "\u001b[0;32m<ipython-input-54-010c0507c441>\u001b[0m in \u001b[0;36m<module>\u001b[0;34m()\u001b[0m\n\u001b[0;32m----> 1\u001b[0;31m \u001b[0;32mfor\u001b[0m \u001b[0mi\u001b[0m\u001b[0;34m,\u001b[0m \u001b[0ms\u001b[0m \u001b[0;32min\u001b[0m \u001b[0mtqdm\u001b[0m\u001b[0;34m(\u001b[0m\u001b[0menumerate\u001b[0m\u001b[0;34m(\u001b[0m\u001b[0mtrain_loader\u001b[0m\u001b[0;34m)\u001b[0m\u001b[0;34m)\u001b[0m\u001b[0;34m:\u001b[0m\u001b[0;34m\u001b[0m\u001b[0m\n\u001b[0m\u001b[1;32m      2\u001b[0m     \u001b[0mx\u001b[0m \u001b[0;34m=\u001b[0m \u001b[0;36m1\u001b[0m\u001b[0;34m\u001b[0m\u001b[0m\n\u001b[1;32m      3\u001b[0m \u001b[0;34m\u001b[0m\u001b[0m\n",
      "\u001b[0;32m/usr/local/lib/python3.5/dist-packages/tqdm/_tqdm.py\u001b[0m in \u001b[0;36m__iter__\u001b[0;34m(self)\u001b[0m\n\u001b[1;32m    953\u001b[0m \"\"\", fp_write=getattr(self.fp, 'write', sys.stderr.write))\n\u001b[1;32m    954\u001b[0m \u001b[0;34m\u001b[0m\u001b[0m\n\u001b[0;32m--> 955\u001b[0;31m             \u001b[0;32mfor\u001b[0m \u001b[0mobj\u001b[0m \u001b[0;32min\u001b[0m \u001b[0miterable\u001b[0m\u001b[0;34m:\u001b[0m\u001b[0;34m\u001b[0m\u001b[0m\n\u001b[0m\u001b[1;32m    956\u001b[0m                 \u001b[0;32myield\u001b[0m \u001b[0mobj\u001b[0m\u001b[0;34m\u001b[0m\u001b[0m\n\u001b[1;32m    957\u001b[0m                 \u001b[0;31m# Update and possibly print the progressbar.\u001b[0m\u001b[0;34m\u001b[0m\u001b[0;34m\u001b[0m\u001b[0m\n",
      "\u001b[0;32m/datadrive/vqa.pytorch/vqa/lib/dataloader.py\u001b[0m in \u001b[0;36m__next__\u001b[0;34m(self)\u001b[0m\n\u001b[1;32m    180\u001b[0m         \u001b[0;32mwhile\u001b[0m \u001b[0;32mTrue\u001b[0m\u001b[0;34m:\u001b[0m\u001b[0;34m\u001b[0m\u001b[0m\n\u001b[1;32m    181\u001b[0m             \u001b[0;32massert\u001b[0m \u001b[0;34m(\u001b[0m\u001b[0;32mnot\u001b[0m \u001b[0mself\u001b[0m\u001b[0;34m.\u001b[0m\u001b[0mshutdown\u001b[0m \u001b[0;32mand\u001b[0m \u001b[0mself\u001b[0m\u001b[0;34m.\u001b[0m\u001b[0mbatches_outstanding\u001b[0m \u001b[0;34m>\u001b[0m \u001b[0;36m0\u001b[0m\u001b[0;34m)\u001b[0m\u001b[0;34m\u001b[0m\u001b[0m\n\u001b[0;32m--> 182\u001b[0;31m             \u001b[0midx\u001b[0m\u001b[0;34m,\u001b[0m \u001b[0mbatch\u001b[0m \u001b[0;34m=\u001b[0m \u001b[0mself\u001b[0m\u001b[0;34m.\u001b[0m\u001b[0mdata_queue\u001b[0m\u001b[0;34m.\u001b[0m\u001b[0mget\u001b[0m\u001b[0;34m(\u001b[0m\u001b[0;34m)\u001b[0m\u001b[0;34m\u001b[0m\u001b[0m\n\u001b[0m\u001b[1;32m    183\u001b[0m             \u001b[0mself\u001b[0m\u001b[0;34m.\u001b[0m\u001b[0mbatches_outstanding\u001b[0m \u001b[0;34m-=\u001b[0m \u001b[0;36m1\u001b[0m\u001b[0;34m\u001b[0m\u001b[0m\n\u001b[1;32m    184\u001b[0m             \u001b[0;32mif\u001b[0m \u001b[0midx\u001b[0m \u001b[0;34m!=\u001b[0m \u001b[0mself\u001b[0m\u001b[0;34m.\u001b[0m\u001b[0mrcvd_idx\u001b[0m\u001b[0;34m:\u001b[0m\u001b[0;34m\u001b[0m\u001b[0m\n",
      "\u001b[0;32m/usr/lib/python3.5/queue.py\u001b[0m in \u001b[0;36mget\u001b[0;34m(self, block, timeout)\u001b[0m\n\u001b[1;32m    162\u001b[0m             \u001b[0;32melif\u001b[0m \u001b[0mtimeout\u001b[0m \u001b[0;32mis\u001b[0m \u001b[0;32mNone\u001b[0m\u001b[0;34m:\u001b[0m\u001b[0;34m\u001b[0m\u001b[0m\n\u001b[1;32m    163\u001b[0m                 \u001b[0;32mwhile\u001b[0m \u001b[0;32mnot\u001b[0m \u001b[0mself\u001b[0m\u001b[0;34m.\u001b[0m\u001b[0m_qsize\u001b[0m\u001b[0;34m(\u001b[0m\u001b[0;34m)\u001b[0m\u001b[0;34m:\u001b[0m\u001b[0;34m\u001b[0m\u001b[0m\n\u001b[0;32m--> 164\u001b[0;31m                     \u001b[0mself\u001b[0m\u001b[0;34m.\u001b[0m\u001b[0mnot_empty\u001b[0m\u001b[0;34m.\u001b[0m\u001b[0mwait\u001b[0m\u001b[0;34m(\u001b[0m\u001b[0;34m)\u001b[0m\u001b[0;34m\u001b[0m\u001b[0m\n\u001b[0m\u001b[1;32m    165\u001b[0m             \u001b[0;32melif\u001b[0m \u001b[0mtimeout\u001b[0m \u001b[0;34m<\u001b[0m \u001b[0;36m0\u001b[0m\u001b[0;34m:\u001b[0m\u001b[0;34m\u001b[0m\u001b[0m\n\u001b[1;32m    166\u001b[0m                 \u001b[0;32mraise\u001b[0m \u001b[0mValueError\u001b[0m\u001b[0;34m(\u001b[0m\u001b[0;34m\"'timeout' must be a non-negative number\"\u001b[0m\u001b[0;34m)\u001b[0m\u001b[0;34m\u001b[0m\u001b[0m\n",
      "\u001b[0;32m/usr/lib/python3.5/threading.py\u001b[0m in \u001b[0;36mwait\u001b[0;34m(self, timeout)\u001b[0m\n\u001b[1;32m    291\u001b[0m         \u001b[0;32mtry\u001b[0m\u001b[0;34m:\u001b[0m    \u001b[0;31m# restore state no matter what (e.g., KeyboardInterrupt)\u001b[0m\u001b[0;34m\u001b[0m\u001b[0m\n\u001b[1;32m    292\u001b[0m             \u001b[0;32mif\u001b[0m \u001b[0mtimeout\u001b[0m \u001b[0;32mis\u001b[0m \u001b[0;32mNone\u001b[0m\u001b[0;34m:\u001b[0m\u001b[0;34m\u001b[0m\u001b[0m\n\u001b[0;32m--> 293\u001b[0;31m                 \u001b[0mwaiter\u001b[0m\u001b[0;34m.\u001b[0m\u001b[0macquire\u001b[0m\u001b[0;34m(\u001b[0m\u001b[0;34m)\u001b[0m\u001b[0;34m\u001b[0m\u001b[0m\n\u001b[0m\u001b[1;32m    294\u001b[0m                 \u001b[0mgotit\u001b[0m \u001b[0;34m=\u001b[0m \u001b[0;32mTrue\u001b[0m\u001b[0;34m\u001b[0m\u001b[0m\n\u001b[1;32m    295\u001b[0m             \u001b[0;32melse\u001b[0m\u001b[0;34m:\u001b[0m\u001b[0;34m\u001b[0m\u001b[0m\n",
      "\u001b[0;31mKeyboardInterrupt\u001b[0m: "
     ]
    },
    {
     "name": "stderr",
     "output_type": "stream",
     "text": [
      "  File \"/usr/lib/python3.5/multiprocessing/process.py\", line 93, in run\n",
      "    self._target(*self._args, **self._kwargs)\n",
      "  File \"/datadrive/vqa.pytorch/vqa/lib/dataloader.py\", line 32, in _worker_loop\n",
      "    samples = collate_fn([dataset[i] for i in batch_indices])\n",
      "  File \"/datadrive/vqa.pytorch/vqa/lib/dataloader.py\", line 32, in <listcomp>\n",
      "    samples = collate_fn([dataset[i] for i in batch_indices])\n",
      "  File \"/datadrive/vqa.pytorch/vqa/datasets/vqa.py\", line 72, in __getitem__\n",
      "    item['answer'] = int(np.random.choice(item_vqa['answers_aid'], p=proba))\n",
      "KeyboardInterrupt\n"
     ]
    }
   ],
   "source": [
    "for i, s in tqdm(enumerate(train_loader)):\n",
    "    x = 1\n",
    "    "
   ]
  },
  {
   "cell_type": "code",
   "execution_count": null,
   "metadata": {},
   "outputs": [],
   "source": []
  }
 ],
 "metadata": {
  "kernelspec": {
   "display_name": "Python 3",
   "language": "python",
   "name": "python3"
  },
  "language_info": {
   "codemirror_mode": {
    "name": "ipython",
    "version": 3
   },
   "file_extension": ".py",
   "mimetype": "text/x-python",
   "name": "python",
   "nbconvert_exporter": "python",
   "pygments_lexer": "ipython3",
   "version": "3.5.2"
  }
 },
 "nbformat": 4,
 "nbformat_minor": 2
}
