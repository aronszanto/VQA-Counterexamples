{
 "cells": [
  {
   "cell_type": "code",
   "execution_count": 11,
   "metadata": {},
   "outputs": [],
   "source": [
    "import h5py\n",
    "import numpy as np\n",
    "import os\n",
    "import pickle\n",
    "import json\n",
    "import random\n",
    "import torch\n",
    "import yaml\n",
    "from tqdm import tqdm\n",
    "\n",
    "from dask import delayed, threaded, compute\n",
    "\n",
    "import vqa.datasets as datasets"
   ]
  },
  {
   "cell_type": "code",
   "execution_count": 7,
   "metadata": {},
   "outputs": [],
   "source": [
    "def batchify(example_list, batch_size, shuffle=True):\n",
    "    if shuffle:\n",
    "        random.shuffle(example_list)\n",
    "\n",
    "    batched_dataset = []\n",
    "    for i in range(0, len(example_list), batch_size):\n",
    "        batched_dataset.append(example_list[i:min(i + batch_size, len(example_list))])\n",
    "\n",
    "    return batched_dataset"
   ]
  },
  {
   "cell_type": "code",
   "execution_count": 3,
   "metadata": {},
   "outputs": [],
   "source": [
    "with open('options/vqa2/counterexamples_default.yaml', 'r') as handle:\n",
    "    options = yaml.load(handle)\n",
    "options['vgenome'] = None\n",
    "\n",
    "trainset_fname = 'trainset_augmented.pickle'\n",
    "trainset = pickle.load(open(os.path.join(options['vqa']['path_trainset'], 'pickle_old', trainset_fname), 'rb'))"
   ]
  },
  {
   "cell_type": "code",
   "execution_count": 4,
   "metadata": {},
   "outputs": [],
   "source": [
    "cache_train = h5py.File('data/cx/vqa_trainset_cached.hdf5', 'r')\n",
    "cache_val = h5py.File('data/cx/vqa_valset_cached.hdf5', 'r')"
   ]
  },
  {
   "cell_type": "code",
   "execution_count": 5,
   "metadata": {},
   "outputs": [],
   "source": [
    "idx_to_qid = list(cache_train.get('q_ids'))"
   ]
  },
  {
   "cell_type": "code",
   "execution_count": 9,
   "metadata": {},
   "outputs": [
    {
     "name": "stdout",
     "output_type": "stream",
     "text": [
      "<class 'numpy.ndarray'>\n",
      "3.129316568374634\n"
     ]
    }
   ],
   "source": [
    "import time\n",
    "\n",
    "start = time.time()\n",
    "\n",
    "for batch in batchify(trainset['examples_list'], batch_size=10):\n",
    "    batch_size = len(batch)\n",
    "    \n",
    "    q_ids = [ex['question_id'] for ex in batch]\n",
    "    \n",
    "    cache_idxs = [idx_to_qid.index(q_id) for q_id in q_ids]\n",
    "    \n",
    "    \n",
    "    answers = cache_train.get('answers')[sorted(cache_idxs)]\n",
    "    \n",
    "    print(type(answers))\n",
    "    \n",
    "    break\n",
    "    \n",
    "print(time.time() - start)"
   ]
  },
  {
   "cell_type": "code",
   "execution_count": 13,
   "metadata": {},
   "outputs": [
    {
     "data": {
      "text/plain": [
       "211626"
      ]
     },
     "execution_count": 13,
     "metadata": {},
     "output_type": "execute_result"
    }
   ],
   "source": [
    "len(cache_train['answers'])"
   ]
  },
  {
   "cell_type": "code",
   "execution_count": 77,
   "metadata": {},
   "outputs": [
    {
     "name": "stdout",
     "output_type": "stream",
     "text": [
      "2.956390380859375e-05\n"
     ]
    }
   ],
   "source": [
    "def batch_iterator(example_list, cache, batch_size, shuffle=True):\n",
    "    \n",
    "    data_size = len(example_list)\n",
    "    \n",
    "    shuffle_indices = np.arange(data_size)\n",
    "    if shuffle:\n",
    "        shuffle_indices = np.random.permutation(shuffle_indices)\n",
    "\n",
    "    num_batches_per_epoch = int((data_size-1)/batch_size) + 1\n",
    "    for batch_num in range(num_batches_per_epoch):\n",
    "        start_index = batch_num * batch_size\n",
    "        end_index = min((batch_num + 1) * batch_size, data_size)\n",
    "        batch_indices = sorted(list(shuffle_indices[start_index:end_index]))\n",
    "        \n",
    "        yield batch_num, \\\n",
    "              compute([delayed(cache['answers'].__getitem__)(i) for i in batch_indices], get=threaded.get)\n",
    "        \n",
    "train_iterator = batch_iterator(trainset['examples_list'], cache_train, batch_size=10)\n",
    "\n",
    "start = time.time()\n",
    "\n",
    "print(next(train_iterator))\n",
    "for i, x in train_iterator:\n",
    "    y = np.array(x[0])\n",
    "    if i > 100:\n",
    "        break\n",
    "    \n",
    "print(time.time() - start)"
   ]
  },
  {
   "cell_type": "code",
   "execution_count": 43,
   "metadata": {},
   "outputs": [],
   "source": []
  },
  {
   "cell_type": "code",
   "execution_count": 34,
   "metadata": {},
   "outputs": [
    {
     "data": {
      "text/plain": [
       "<generator object batch_iterator at 0x7fbf9742afc0>"
      ]
     },
     "execution_count": 34,
     "metadata": {},
     "output_type": "execute_result"
    }
   ],
   "source": [
    "train_iterator"
   ]
  },
  {
   "cell_type": "code",
   "execution_count": 47,
   "metadata": {},
   "outputs": [
    {
     "name": "stdout",
     "output_type": "stream",
     "text": [
      "6.985664367675781e-05\n"
     ]
    }
   ],
   "source": []
  },
  {
   "cell_type": "code",
   "execution_count": null,
   "metadata": {},
   "outputs": [],
   "source": [
    "def batch_iterator(number_of_examples: int=None, batch_size: int=None, num_epochs: int=10, shuffle=False):\n",
    "    \"\"\"Generates a batch iterator for a dataset.\"\"\"\n",
    "    if batch_size is None:\n",
    "        batch_size = self.batch_size\n",
    "    names = self.h5_file['names']\n",
    "    data_size = len(names)\n",
    "    if number_of_examples is not None:\n",
    "        data_size = number_of_examples\n",
    "    x_dat = self.h5_file['x_data']\n",
    "    y_dat = self.h5_file['y_data']\n",
    "    num_batches_per_epoch = int((data_size-1)/batch_size) + 1\n",
    "    for epoch in range(num_epochs):\n",
    "        # Shuffle the data at each epoch\n",
    "        shuffle_indices = np.arange(data_size)\n",
    "        if shuffle:\n",
    "            shuffle_indices = np.random.permutation(shuffle_indices)\n",
    "        for batch_num in range(num_batches_per_epoch):\n",
    "            start_index = batch_num * batch_size\n",
    "            end_index = min((batch_num + 1) * batch_size, data_size)\n",
    "            batch_indices = sorted(list(shuffle_indices[start_index:end_index]))\n",
    "            yield epoch, batch_num, \\\n",
    "                  compute([delayed(x_dat.__getitem__)(i) for i in batch_indices], get=threaded.get), \\\n",
    "                  compute([delayed(y_dat.__getitem__)(i) for i in batch_indices], get=threaded.get), \\\n",
    "                  compute([delayed(names.__getitem__)(i) for i in batch_indices], get=threaded.get)\n"
   ]
  }
 ],
 "metadata": {
  "kernelspec": {
   "display_name": "Python 3",
   "language": "python",
   "name": "python3"
  },
  "language_info": {
   "codemirror_mode": {
    "name": "ipython",
    "version": 3
   },
   "file_extension": ".py",
   "mimetype": "text/x-python",
   "name": "python",
   "nbconvert_exporter": "python",
   "pygments_lexer": "ipython3",
   "version": "3.5.2"
  }
 },
 "nbformat": 4,
 "nbformat_minor": 2
}
